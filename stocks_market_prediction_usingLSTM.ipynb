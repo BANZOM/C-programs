{
  "nbformat": 4,
  "nbformat_minor": 0,
  "metadata": {
    "colab": {
      "name": "stocks_market_prediction_usingLSTM.ipynb",
      "provenance": [],
      "authorship_tag": "ABX9TyNouQQBqXqrG92+sO35NOB+",
      "include_colab_link": true
    },
    "kernelspec": {
      "name": "python3",
      "display_name": "Python 3"
    },
    "language_info": {
      "name": "python"
    }
  },
  "cells": [
    {
      "cell_type": "markdown",
      "metadata": {
        "id": "view-in-github",
        "colab_type": "text"
      },
      "source": [
        "<a href=\"https://colab.research.google.com/github/BANZOM/C-programs/blob/main/stocks_market_prediction_usingLSTM.ipynb\" target=\"_parent\"><img src=\"https://colab.research.google.com/assets/colab-badge.svg\" alt=\"Open In Colab\"/></a>"
      ]
    },
    {
      "cell_type": "code",
      "execution_count": 1,
      "metadata": {
        "colab": {
          "base_uri": "https://localhost:8080/"
        },
        "id": "H3CX87run0SP",
        "outputId": "be7dcf24-4694-4e53-eed0-958c0262c9ad"
      },
      "outputs": [
        {
          "output_type": "stream",
          "name": "stdout",
          "text": [
            "\u001b[?25l\r\u001b[K     |█████▏                          | 10 kB 14.7 MB/s eta 0:00:01\r\u001b[K     |██████████▍                     | 20 kB 20.4 MB/s eta 0:00:01\r\u001b[K     |███████████████▋                | 30 kB 26.4 MB/s eta 0:00:01\r\u001b[K     |████████████████████▉           | 40 kB 28.9 MB/s eta 0:00:01\r\u001b[K     |██████████████████████████      | 51 kB 6.0 MB/s eta 0:00:01\r\u001b[K     |███████████████████████████████▎| 61 kB 7.0 MB/s eta 0:00:01\r\u001b[K     |████████████████████████████████| 62 kB 827 kB/s \n",
            "\u001b[?25h"
          ]
        }
      ],
      "source": [
        "# downloading and importing libraries \n",
        "\n",
        "!pip install -q yfinance #Download market data from Yahoo! Finance's API\n"
      ]
    },
    {
      "cell_type": "code",
      "source": [
        "# fundamental libraries \n",
        "import pandas as pd\n",
        "import numpy as np\n",
        "\n",
        "import matplotlib.pyplot as plt\n",
        "import seaborn as sns"
      ],
      "metadata": {
        "id": "7B9GbglCpgvH"
      },
      "execution_count": 2,
      "outputs": []
    },
    {
      "cell_type": "code",
      "source": [
        "# For reading stock data from yahoo\n",
        "from pandas_datareader.data import DataReader\n",
        "import yfinance as yf\n",
        "\n",
        "# For time stamps\n",
        "from datetime import datetime"
      ],
      "metadata": {
        "id": "pamykmvOqdHu"
      },
      "execution_count": 3,
      "outputs": []
    }
  ]
}